{
 "cells": [
  {
   "cell_type": "markdown",
   "metadata": {},
   "source": [
    "# Indexing: Access any item in sequence using its index. ( Always starts with 0) "
   ]
  },
  {
   "cell_type": "code",
   "execution_count": 4,
   "metadata": {},
   "outputs": [
    {
     "name": "stdout",
     "output_type": "stream",
     "text": [
      "g\n",
      "cow\n",
      "Anmol\n"
     ]
    }
   ],
   "source": [
    "#strings\n",
    "x = 'frog'\n",
    "\n",
    "print(x[3])\n",
    "\n",
    "#list\n",
    "x = ['dog', 'cow', 'horse']\n",
    "print(x[1])\n",
    "\n",
    "#tuple\n",
    "x = ('Anmol', 'Aashu', 'Mahi', 'Kohli')\n",
    "print(x[0])"
   ]
  },
  {
   "cell_type": "markdown",
   "metadata": {},
   "source": [
    "# Slicing: slice out substrings, sublists, subtuples using indexes\n",
    "[start:end+1:step]"
   ]
  },
  {
   "cell_type": "code",
   "execution_count": 12,
   "metadata": {},
   "outputs": [
    {
     "name": "stdout",
     "output_type": "stream",
     "text": [
      "omp\n",
      "Cp\n",
      "ptr\n",
      "omputers\n",
      "ers\n",
      "Com\n"
     ]
    }
   ],
   "source": [
    "x = 'Computers'\n",
    "print(x[1:4])\n",
    "print(x[0:6:3])\n",
    "print(x[3::2])\n",
    "print(x[1:])\n",
    "print(x[-3:])\n",
    "print(x[:-6])"
   ]
  },
  {
   "cell_type": "markdown",
   "metadata": {},
   "source": [
    "# Adding / Concatenating: combine 2 sequence of same type by +"
   ]
  },
  {
   "cell_type": "code",
   "execution_count": 20,
   "metadata": {},
   "outputs": [
    {
     "name": "stdout",
     "output_type": "stream",
     "text": [
      "AnmolMSD\n",
      "['MSD', 'Raina', 'Jaddu', 'Cristiano', 'Dybala']\n",
      "('Real Madrid', 'CSk', 'Juventus')\n"
     ]
    }
   ],
   "source": [
    "#strings\n",
    "\n",
    "x = 'Anmol' + 'MSD'\n",
    "print(x)\n",
    "\n",
    "#list \n",
    "x = ['MSD', 'Raina', 'Jaddu']+['Cristiano', 'Dybala']\n",
    "print(x)\n",
    "\n",
    "#tuple \n",
    "x = ('Real Madrid', 'CSk') + ('Juventus',)\n",
    "print(x)"
   ]
  },
  {
   "cell_type": "markdown",
   "metadata": {},
   "source": [
    "# multiplying: multiplying a sequence using *"
   ]
  },
  {
   "cell_type": "code",
   "execution_count": 24,
   "metadata": {},
   "outputs": [
    {
     "name": "stdout",
     "output_type": "stream",
     "text": [
      "AnmolAnmolAnmol\n",
      "['7', '12', '6', '7', '12', '6']\n",
      "('Mahi', 'CSk', 'Mahi', 'CSk', 'Mahi', 'CSk', 'Mahi', 'CSk')\n"
     ]
    }
   ],
   "source": [
    "#string \n",
    "x = 'Anmol' * 3\n",
    "print(x)\n",
    "\n",
    "#lists\n",
    "x = ['7', '12', '6'] * 2 \n",
    "print(x)\n",
    "\n",
    "#tuple\n",
    "x = ('Mahi', 'CSk') *4\n",
    "print(x)"
   ]
  },
  {
   "cell_type": "markdown",
   "metadata": {},
   "source": [
    "# checking membership: test whether an item  is or is not in a sequence. "
   ]
  },
  {
   "cell_type": "code",
   "execution_count": 29,
   "metadata": {},
   "outputs": [
    {
     "name": "stdout",
     "output_type": "stream",
     "text": [
      "True\n",
      "False\n",
      "True\n"
     ]
    }
   ],
   "source": [
    "#string \n",
    "x = 'Anmol'\n",
    "print('n' in x)\n",
    "\n",
    "#lists\n",
    "x = ['MSD', 'Chennai', 'India']\n",
    "print('MSD' not in x)\n",
    "\n",
    "#tuple\n",
    "x = ('Anmol', 'Pal')\n",
    "print('Anmol' in x)"
   ]
  },
  {
   "cell_type": "markdown",
   "metadata": {},
   "source": [
    "# iterating: iterating through the items in a sequence"
   ]
  },
  {
   "cell_type": "code",
   "execution_count": 39,
   "metadata": {},
   "outputs": [
    {
     "name": "stdout",
     "output_type": "stream",
     "text": [
      "1\n",
      "2\n",
      "3\n",
      "0 a\n",
      "1 b\n",
      "2 c\n"
     ]
    }
   ],
   "source": [
    "#items \n",
    "x = [1, 2, 3]\n",
    "for item in x:\n",
    "    print(item)\n",
    "    \n",
    "#index and item\n",
    "y = ['a', 'b', 'c']\n",
    "for index, item in enumerate(y):\n",
    "    print(index, item)"
   ]
  },
  {
   "cell_type": "markdown",
   "metadata": {},
   "source": [
    "# number of items: count the number of items in a sequence"
   ]
  },
  {
   "cell_type": "code",
   "execution_count": 44,
   "metadata": {},
   "outputs": [
    {
     "name": "stdout",
     "output_type": "stream",
     "text": [
      "5\n",
      "4\n",
      "2\n"
     ]
    }
   ],
   "source": [
    "#strings\n",
    "x = 'Anmol'\n",
    "print(len(x))\n",
    "\n",
    "#lists\n",
    "y = ['Anmol', 'Pal', 'Anmol', 'Pal']\n",
    "print(len(y))\n",
    "\n",
    "#tuple\n",
    "z = ('MSD', 'CR7')\n",
    "print(len(z))"
   ]
  },
  {
   "cell_type": "markdown",
   "metadata": {},
   "source": [
    "# minimum: find the minimum item in a sequence lexicographically. Alpha or numeric types but not mix types"
   ]
  },
  {
   "cell_type": "code",
   "execution_count": 46,
   "metadata": {},
   "outputs": [
    {
     "name": "stdout",
     "output_type": "stream",
     "text": [
      "A\n",
      "Anmol\n",
      "CR7\n"
     ]
    }
   ],
   "source": [
    "#strings\n",
    "x = 'Anmol'\n",
    "print(min(x))\n",
    "\n",
    "#lists\n",
    "y = ['Anmol', 'Pal', 'Anmol', 'Pal']\n",
    "print(min(y))\n",
    "\n",
    "#tuple\n",
    "z = ('MSD', 'CR7')\n",
    "print(min(z))"
   ]
  },
  {
   "cell_type": "markdown",
   "metadata": {},
   "source": [
    "# maximum: find the maximum item in a sequence lexicographically. Alpha or numeric types but not mix types"
   ]
  },
  {
   "cell_type": "code",
   "execution_count": 47,
   "metadata": {},
   "outputs": [
    {
     "name": "stdout",
     "output_type": "stream",
     "text": [
      "o\n",
      "Pal\n",
      "MSD\n"
     ]
    }
   ],
   "source": [
    "#strings\n",
    "x = 'Anmol'\n",
    "print(max(x))\n",
    "\n",
    "#lists\n",
    "y = ['Anmol', 'Pal', 'Anmol', 'Pal']\n",
    "print(max(y))\n",
    "\n",
    "#tuple\n",
    "z = ('MSD', 'CR7')\n",
    "print(max(z))"
   ]
  },
  {
   "cell_type": "markdown",
   "metadata": {},
   "source": [
    "# sum: find the sum of items in a sequence. Entire sequence must be numeric."
   ]
  },
  {
   "cell_type": "code",
   "execution_count": 51,
   "metadata": {},
   "outputs": [
    {
     "name": "stdout",
     "output_type": "stream",
     "text": [
      "10\n",
      "7\n",
      "11\n"
     ]
    }
   ],
   "source": [
    "#string --> ERROR\n",
    "# x = [1, 2, 'Anmol'] --> ERROR\n",
    "\n",
    "#lists\n",
    "\n",
    "x = [1, 2 ,3 ,4]\n",
    "print(sum(x))\n",
    "print(sum(x[-2:]))\n",
    "\n",
    "#tuple\n",
    "y = (1,2,3,5)\n",
    "print(sum(y))"
   ]
  },
  {
   "cell_type": "code",
   "execution_count": null,
   "metadata": {},
   "outputs": [],
   "source": []
  }
 ],
 "metadata": {
  "kernelspec": {
   "display_name": "Python 3",
   "language": "python",
   "name": "python3"
  },
  "language_info": {
   "codemirror_mode": {
    "name": "ipython",
    "version": 3
   },
   "file_extension": ".py",
   "mimetype": "text/x-python",
   "name": "python",
   "nbconvert_exporter": "python",
   "pygments_lexer": "ipython3",
   "version": "3.6.8"
  }
 },
 "nbformat": 4,
 "nbformat_minor": 2
}
