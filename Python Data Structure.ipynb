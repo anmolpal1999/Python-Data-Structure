{
 "cells": [
  {
   "cell_type": "markdown",
   "metadata": {},
   "source": [
    "# Indexing: Access any item in sequence using its index. ( Always starts with 0) "
   ]
  },
  {
   "cell_type": "code",
   "execution_count": 4,
   "metadata": {},
   "outputs": [
    {
     "name": "stdout",
     "output_type": "stream",
     "text": [
      "g\n",
      "cow\n",
      "Anmol\n"
     ]
    }
   ],
   "source": [
    "#strings\n",
    "x = 'frog'\n",
    "\n",
    "print(x[3])\n",
    "\n",
    "#list\n",
    "x = ['dog', 'cow', 'horse']\n",
    "print(x[1])\n",
    "\n",
    "#tuple\n",
    "x = ('Anmol', 'Aashu', 'Mahi', 'Kohli')\n",
    "print(x[0])"
   ]
  },
  {
   "cell_type": "markdown",
   "metadata": {},
   "source": [
    "# Slicing: slice out substrings, sublists, subtuples using indexes\n",
    "[start:end+1:step]"
   ]
  },
  {
   "cell_type": "code",
   "execution_count": 12,
   "metadata": {},
   "outputs": [
    {
     "name": "stdout",
     "output_type": "stream",
     "text": [
      "omp\n",
      "Cp\n",
      "ptr\n",
      "omputers\n",
      "ers\n",
      "Com\n"
     ]
    }
   ],
   "source": [
    "x = 'Computers'\n",
    "print(x[1:4])\n",
    "print(x[0:6:3])\n",
    "print(x[3::2])\n",
    "print(x[1:])\n",
    "print(x[-3:])\n",
    "print(x[:-6])"
   ]
  },
  {
   "cell_type": "markdown",
   "metadata": {},
   "source": [
    "# Adding / Concatenating: combine 2 sequence of same type by +"
   ]
  },
  {
   "cell_type": "code",
   "execution_count": 20,
   "metadata": {},
   "outputs": [
    {
     "name": "stdout",
     "output_type": "stream",
     "text": [
      "AnmolMSD\n",
      "['MSD', 'Raina', 'Jaddu', 'Cristiano', 'Dybala']\n",
      "('Real Madrid', 'CSk', 'Juventus')\n"
     ]
    }
   ],
   "source": [
    "#strings\n",
    "\n",
    "x = 'Anmol' + 'MSD'\n",
    "print(x)\n",
    "\n",
    "#list \n",
    "x = ['MSD', 'Raina', 'Jaddu']+['Cristiano', 'Dybala']\n",
    "print(x)\n",
    "\n",
    "#tuple \n",
    "x = ('Real Madrid', 'CSk') + ('Juventus',)\n",
    "print(x)"
   ]
  },
  {
   "cell_type": "markdown",
   "metadata": {},
   "source": [
    "# multiplying: multiplying a sequence using *"
   ]
  },
  {
   "cell_type": "code",
   "execution_count": 24,
   "metadata": {},
   "outputs": [
    {
     "name": "stdout",
     "output_type": "stream",
     "text": [
      "AnmolAnmolAnmol\n",
      "['7', '12', '6', '7', '12', '6']\n",
      "('Mahi', 'CSk', 'Mahi', 'CSk', 'Mahi', 'CSk', 'Mahi', 'CSk')\n"
     ]
    }
   ],
   "source": [
    "#string \n",
    "x = 'Anmol' * 3\n",
    "print(x)\n",
    "\n",
    "#lists\n",
    "x = ['7', '12', '6'] * 2 \n",
    "print(x)\n",
    "\n",
    "#tuple\n",
    "x = ('Mahi', 'CSk') *4\n",
    "print(x)"
   ]
  },
  {
   "cell_type": "markdown",
   "metadata": {},
   "source": [
    "# checking membership: test whether an item  is or is not in a sequence. "
   ]
  },
  {
   "cell_type": "code",
   "execution_count": null,
   "metadata": {},
   "outputs": [],
   "source": []
  }
 ],
 "metadata": {
  "kernelspec": {
   "display_name": "Python 3",
   "language": "python",
   "name": "python3"
  },
  "language_info": {
   "codemirror_mode": {
    "name": "ipython",
    "version": 3
   },
   "file_extension": ".py",
   "mimetype": "text/x-python",
   "name": "python",
   "nbconvert_exporter": "python",
   "pygments_lexer": "ipython3",
   "version": "3.6.8"
  }
 },
 "nbformat": 4,
 "nbformat_minor": 2
}
