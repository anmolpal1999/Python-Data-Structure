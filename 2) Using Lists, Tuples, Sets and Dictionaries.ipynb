{
 "cells": [
  {
   "cell_type": "markdown",
   "metadata": {},
   "source": [
    "# Lists \n",
    "#### General Purpose \n",
    "#### Most widely used data structure \n",
    "#### Grow and shrink size as neede \n",
    "#### Sequence type\n",
    "#### Sortable \n",
    "\n",
    "### Constructors - creating a new list"
   ]
  },
  {
   "cell_type": "code",
   "execution_count": 11,
   "metadata": {},
   "outputs": [
    {
     "name": "stdout",
     "output_type": "stream",
     "text": [
      "[1, 2, 3, 4]\n",
      "[1, 2, 3]\n",
      "['a', 25, 'anmol', 3.14]\n",
      "[10, 20]\n"
     ]
    }
   ],
   "source": [
    "x = list() \n",
    "x=[1,2,3,4]\n",
    "print(x)\n",
    "\n",
    "x=[1,2,3]\n",
    "print(x)\n",
    "\n",
    "list2 = ['a', 25, 'anmol', 3.14]\n",
    "y = list(list2)\n",
    "print(y)\n",
    "\n",
    "tuple1 = (10 , 20)\n",
    "z = list(tuple1)\n",
    "print(z)"
   ]
  },
  {
   "cell_type": "code",
   "execution_count": 13,
   "metadata": {},
   "outputs": [
    {
     "name": "stdout",
     "output_type": "stream",
     "text": [
      "[0, 1, 2, 3, 4, 5, 6, 7, 8, 9]\n",
      "[25, 36, 49, 64, 81]\n"
     ]
    }
   ],
   "source": [
    "#List comprehension\n",
    "a = [ i for i in range(10) ]\n",
    "print(a)\n",
    "\n",
    "b = [i**2 for i in range(10) if i>=5]\n",
    "print(b)"
   ]
  },
  {
   "cell_type": "code",
   "execution_count": null,
   "metadata": {},
   "outputs": [],
   "source": []
  }
 ],
 "metadata": {
  "kernelspec": {
   "display_name": "Python 3",
   "language": "python",
   "name": "python3"
  },
  "language_info": {
   "codemirror_mode": {
    "name": "ipython",
    "version": 3
   },
   "file_extension": ".py",
   "mimetype": "text/x-python",
   "name": "python",
   "nbconvert_exporter": "python",
   "pygments_lexer": "ipython3",
   "version": "3.6.8"
  }
 },
 "nbformat": 4,
 "nbformat_minor": 2
}
