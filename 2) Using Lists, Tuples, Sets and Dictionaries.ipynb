{
 "cells": [
  {
   "cell_type": "markdown",
   "metadata": {},
   "source": [
    "# Lists \n",
    "##### General Purpose \n",
    "##### Most widely used data structure \n",
    "##### Grow and shrink size as neede \n",
    "##### Sequence type\n",
    "##### Sortable \n",
    "\n",
    "#### Constructors - creating a new list"
   ]
  },
  {
   "cell_type": "code",
   "execution_count": 11,
   "metadata": {},
   "outputs": [
    {
     "name": "stdout",
     "output_type": "stream",
     "text": [
      "[1, 2, 3, 4]\n",
      "[1, 2, 3]\n",
      "['a', 25, 'anmol', 3.14]\n",
      "[10, 20]\n"
     ]
    }
   ],
   "source": [
    "x = list() \n",
    "x=[1,2,3,4]\n",
    "print(x)\n",
    "\n",
    "x=[1,2,3]\n",
    "print(x)\n",
    "\n",
    "list2 = ['a', 25, 'anmol', 3.14]\n",
    "y = list(list2)\n",
    "print(y)\n",
    "\n",
    "tuple1 = (10 , 20)\n",
    "z = list(tuple1)\n",
    "print(z)"
   ]
  },
  {
   "cell_type": "code",
   "execution_count": 13,
   "metadata": {},
   "outputs": [
    {
     "name": "stdout",
     "output_type": "stream",
     "text": [
      "[0, 1, 2, 3, 4, 5, 6, 7, 8, 9]\n",
      "[25, 36, 49, 64, 81]\n"
     ]
    }
   ],
   "source": [
    "#List comprehension\n",
    "a = [ i for i in range(10) ]\n",
    "print(a)\n",
    "\n",
    "b = [i**2 for i in range(10) if i>=5]\n",
    "print(b)"
   ]
  },
  {
   "cell_type": "markdown",
   "metadata": {},
   "source": [
    "# delete: delete a list or an item in list"
   ]
  },
  {
   "cell_type": "code",
   "execution_count": 21,
   "metadata": {},
   "outputs": [
    {
     "name": "stdout",
     "output_type": "stream",
     "text": [
      "[1, 2, 3, 4, 5]\n",
      "--------------------------------------------------------------------------------------------------------------\n",
      "[1, 3, 4, 5]\n",
      "--------------------------------------------------------------------------------------------------------------\n"
     ]
    }
   ],
   "source": [
    "x = [1,2,3,4,5]\n",
    "print(x)\n",
    "print(\"--------------------------------------------------------------------------------------------------------------\")\n",
    "del(x[1])\n",
    "print(x)\n",
    "print(\"--------------------------------------------------------------------------------------------------------------\")\n",
    "del(x)"
   ]
  },
  {
   "cell_type": "markdown",
   "metadata": {},
   "source": [
    "# append: append a item to a list"
   ]
  },
  {
   "cell_type": "code",
   "execution_count": 22,
   "metadata": {},
   "outputs": [
    {
     "name": "stdout",
     "output_type": "stream",
     "text": [
      "[1, 2, 3, 4, 5, 6]\n"
     ]
    }
   ],
   "source": [
    "x = [1,2,3,4,5]\n",
    "x.append(6)\n",
    "print(x)"
   ]
  },
  {
   "cell_type": "markdown",
   "metadata": {},
   "source": [
    "# extend: append a sequence to a list"
   ]
  },
  {
   "cell_type": "code",
   "execution_count": 24,
   "metadata": {},
   "outputs": [
    {
     "name": "stdout",
     "output_type": "stream",
     "text": [
      "[1, 2, 3, 4, 5, 6, 7, 8]\n"
     ]
    }
   ],
   "source": [
    "x = [1,2,3,4,5]\n",
    "y = [6,7,8]\n",
    "x.extend(y)\n",
    "print(x)"
   ]
  },
  {
   "cell_type": "markdown",
   "metadata": {},
   "source": [
    "# insert: insert an item at given index"
   ]
  },
  {
   "cell_type": "code",
   "execution_count": 31,
   "metadata": {},
   "outputs": [
    {
     "name": "stdout",
     "output_type": "stream",
     "text": [
      "[1, 3, 2, 3, 4, 5]\n",
      "[1, ['a', 'b'], 3, 2, 3, 4, 5]\n"
     ]
    }
   ],
   "source": [
    "x = [1,2,3,4,5]\n",
    "x.insert(1,3)\n",
    "print(x)\n",
    "\n",
    "x.insert(1, [\"a\",\"b\"])\n",
    "print(x)"
   ]
  },
  {
   "cell_type": "markdown",
   "metadata": {},
   "source": [
    "# pop: pops last item off list and returns item"
   ]
  },
  {
   "cell_type": "code",
   "execution_count": 34,
   "metadata": {},
   "outputs": [
    {
     "name": "stdout",
     "output_type": "stream",
     "text": [
      "[1, 2, 3, 4, 5]\n",
      "-----------------------------------------------------------------------\n",
      "[1, 2, 3, 4]\n"
     ]
    }
   ],
   "source": [
    "x = [1,2,3,4,5]\n",
    "print(x)\n",
    "print(\"-----------------------------------------------------------------------\")\n",
    "x.pop()\n",
    "print(x)"
   ]
  },
  {
   "cell_type": "markdown",
   "metadata": {},
   "source": [
    "# remove: remove first instance of an item"
   ]
  },
  {
   "cell_type": "code",
   "execution_count": 36,
   "metadata": {},
   "outputs": [
    {
     "name": "stdout",
     "output_type": "stream",
     "text": [
      "[1, 2, 3, 4, 3, 5]\n",
      "---------------------------------------------------------------------------------------------------------\n",
      "[1, 2, 4, 3, 5]\n"
     ]
    }
   ],
   "source": [
    "x = [1,2,3,4,3,5]\n",
    "print(x)\n",
    "print(\"---------------------------------------------------------------------------------------------------------\")\n",
    "x.remove(3)\n",
    "print(x)"
   ]
  },
  {
   "cell_type": "markdown",
   "metadata": {},
   "source": [
    "# reverse: reverse the order of the list. It is an in-place sort, meaning it changes the original list"
   ]
  },
  {
   "cell_type": "code",
   "execution_count": 39,
   "metadata": {},
   "outputs": [
    {
     "name": "stdout",
     "output_type": "stream",
     "text": [
      "[6, 5, 4, 3, 2, 1]\n"
     ]
    }
   ],
   "source": [
    "x = [1,2,3,4,5,6]\n",
    "x.reverse()\n",
    "print(x)"
   ]
  },
  {
   "cell_type": "markdown",
   "metadata": {},
   "source": [
    "# sort: sorts the list in place\n",
    "\n",
    "##### Note: sorted(x) returns a new sorted list without changing the original list x. x.sort() puts the items of x in sorted order (sorts in place)"
   ]
  },
  {
   "cell_type": "code",
   "execution_count": 43,
   "metadata": {},
   "outputs": [
    {
     "name": "stdout",
     "output_type": "stream",
     "text": [
      "[4, 7, 3, 1, 5]\n",
      "----------------------------------------------------------------------\n",
      "[1, 3, 4, 5, 7]\n"
     ]
    }
   ],
   "source": [
    "x = [4,7,3,1,5]\n",
    "print(x)\n",
    "print(\"----------------------------------------------------------------------\")\n",
    "x.sort()\n",
    "print(x)"
   ]
  },
  {
   "cell_type": "markdown",
   "metadata": {},
   "source": [
    "# reverse sort: sort items descendingly\n",
    "use reverse=True parameter to sort the function"
   ]
  },
  {
   "cell_type": "code",
   "execution_count": 44,
   "metadata": {},
   "outputs": [
    {
     "name": "stdout",
     "output_type": "stream",
     "text": [
      "[1, 2, 3, 4, 5]\n",
      "----------------------------------------------------------------------------\n",
      "[5, 4, 3, 2, 1]\n"
     ]
    }
   ],
   "source": [
    "x = [1,2,3,4,5]\n",
    "print(x)\n",
    "print(\"----------------------------------------------------------------------------\")\n",
    "x.sort(reverse=True)\n",
    "print(x)"
   ]
  },
  {
   "cell_type": "markdown",
   "metadata": {},
   "source": [
    "# Tuples\n",
    "> Immutable (can't add/change)\n",
    "> | Useful for fixed data\n",
    "> | Faster than lists\n",
    "> | Sequence Type\n",
    "\n",
    "#### constructos: creating new tuple"
   ]
  },
  {
   "cell_type": "code",
   "execution_count": 46,
   "metadata": {},
   "outputs": [
    {
     "name": "stdout",
     "output_type": "stream",
     "text": [
      "(1, 2, 3) <class 'tuple'>\n",
      "(1, 2, 3, 4)\n"
     ]
    }
   ],
   "source": [
    "x = ()\n",
    "x = (1,2,3)\n",
    "x = 1,2,3 # the comma tells python that its tuple\n",
    "print(x, type(x))\n",
    "\n",
    "list1 = [1,2,3,4]\n",
    "x = tuple(list1)\n",
    "print(x)"
   ]
  },
  {
   "cell_type": "markdown",
   "metadata": {},
   "source": [
    "# tuples are immutable, but member objects may be mutable."
   ]
  },
  {
   "cell_type": "code",
   "execution_count": 57,
   "metadata": {},
   "outputs": [
    {
     "name": "stdout",
     "output_type": "stream",
     "text": [
      "(1, 2, 3)\n",
      "([1, 3], 4)\n",
      "-------------------------------------------------------------\n",
      "([1], 4)\n",
      "-------------------------------------------------------------\n",
      "([], 4)\n",
      "([], 4, 5)\n"
     ]
    }
   ],
   "source": [
    "x = (1,2,3)\n",
    "# del(x[1])\n",
    "# x[1] = 4\n",
    "print(x)\n",
    "\n",
    "y = ([1,3], 4) # A tuple with a list as an item\n",
    "print(y)\n",
    "print(\"-------------------------------------------------------------\")\n",
    "del(y[0][1])\n",
    "print(y)\n",
    "print(\"-------------------------------------------------------------\")\n",
    "del(y[0][0])\n",
    "print(y)\n",
    "\n",
    "y += (5,)\n",
    "print(y)"
   ]
  },
  {
   "cell_type": "markdown",
   "metadata": {},
   "source": [
    "# Sets\n",
    "###### Store non dublicate items | Very fast access vs Lists | Maths set operation ( union and intersection ) | Sets are unordered\n",
    "\n",
    "constructors: creating new sets"
   ]
  },
  {
   "cell_type": "code",
   "execution_count": 62,
   "metadata": {},
   "outputs": [
    {
     "name": "stdout",
     "output_type": "stream",
     "text": [
      "{3, 4, 5, 7}\n",
      "--------------\n",
      "set()\n",
      "--------------\n",
      "{1, 2, 3}\n"
     ]
    }
   ],
   "source": [
    "x = {3, 5, 4 ,7}\n",
    "print(x)\n",
    "\n",
    "y = set()\n",
    "print(\"--------------\")\n",
    "print(y)\n",
    "print(\"--------------\")\n",
    "list1 = [1,2,3]\n",
    "z = set(list1)\n",
    "print(z)"
   ]
  },
  {
   "cell_type": "markdown",
   "metadata": {},
   "source": [
    "# set operations "
   ]
  },
  {
   "cell_type": "code",
   "execution_count": 79,
   "metadata": {},
   "outputs": [
    {
     "name": "stdout",
     "output_type": "stream",
     "text": [
      "{1, 2, 3}\n",
      "--------------\n",
      "{1, 2, 3, 4}\n",
      "--------------\n",
      "{1, 2, 4}\n",
      "--------------\n",
      "3\n",
      "--------------\n",
      "False\n",
      "--------------\n",
      "1 {2, 4}\n",
      "{2, 4}\n",
      "--------------\n",
      "set()\n"
     ]
    }
   ],
   "source": [
    "x = {1,2,3}\n",
    "print(x)\n",
    "print(\"--------------\")\n",
    "x.add(4)\n",
    "print(x)\n",
    "print(\"--------------\")\n",
    "\n",
    "x.remove(3)\n",
    "print(x)\n",
    "\n",
    "#to get the length of set\n",
    "print(\"--------------\")\n",
    "print(len(x))\n",
    "\n",
    "# check membership in x\n",
    "print(\"--------------\")\n",
    "print(5 in x)\n",
    "\n",
    "print(\"--------------\")\n",
    "print(x.pop(), x)\n",
    "print(x)\n",
    "\n",
    "# delete all item from set x\n",
    "print(\"--------------\")\n",
    "x.clear()\n",
    "print(x)\n"
   ]
  },
  {
   "cell_type": "markdown",
   "metadata": {},
   "source": [
    "# Mathematical set operations\n",
    "intersection (AND): set1 & set2\n",
    "\n",
    "union (OR): set1 | set2\n",
    "\n",
    "symmetric difference (XOR): set1 ^ set2 difference ( in set1 but not in set2): set1 - set2\n",
    "\n",
    "subset (set2 contains set1): set1 <= set2 \n",
    "\n",
    "superset (set1 contains set2): set1 >= set2"
   ]
  },
  {
   "cell_type": "code",
   "execution_count": 6,
   "metadata": {},
   "outputs": [
    {
     "name": "stdout",
     "output_type": "stream",
     "text": [
      "{3}\n",
      "-------------------------------------------------------------------------------------------\n",
      "{1, 2, 3, 4, 5}\n",
      "-------------------------------------------------------------------------------------------\n",
      "{1, 2, 4, 5}\n",
      "-------------------------------------------------------------------------------------------\n",
      "{1, 2}\n",
      "-------------------------------------------------------------------------------------------\n",
      "False\n",
      "-------------------------------------------------------------------------------------------\n",
      "False\n"
     ]
    }
   ],
   "source": [
    "s1 = {1,2,3}\n",
    "s2 = {3,4,5}\n",
    "\n",
    "print(s1 & s2)\n",
    "print(\"-------------------------------------------------------------------------------------------\")\n",
    "print(s1 | s2)\n",
    "print(\"-------------------------------------------------------------------------------------------\")\n",
    "print(s1^s2)\n",
    "print(\"-------------------------------------------------------------------------------------------\")\n",
    "print(s1 - s2)\n",
    "print(\"-------------------------------------------------------------------------------------------\")\n",
    "print(s1<=s2)\n",
    "print(\"-------------------------------------------------------------------------------------------\")\n",
    "print(s1>=s2)"
   ]
  },
  {
   "cell_type": "code",
   "execution_count": null,
   "metadata": {},
   "outputs": [],
   "source": []
  }
 ],
 "metadata": {
  "kernelspec": {
   "display_name": "Python 3",
   "language": "python",
   "name": "python3"
  },
  "language_info": {
   "codemirror_mode": {
    "name": "ipython",
    "version": 3
   },
   "file_extension": ".py",
   "mimetype": "text/x-python",
   "name": "python",
   "nbconvert_exporter": "python",
   "pygments_lexer": "ipython3",
   "version": "3.6.8"
  }
 },
 "nbformat": 4,
 "nbformat_minor": 2
}
